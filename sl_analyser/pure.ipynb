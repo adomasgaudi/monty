{
 "cells": [
  {
   "cell_type": "code",
   "id": "69441f3a",
   "metadata": {
    "ExecuteTime": {
     "end_time": "2025-10-09T22:32:28.193675Z",
     "start_time": "2025-10-09T22:32:26.375731Z"
    }
   },
   "source": [
    "# ---------------------------------------------\n",
    "# StrengthLevel Workouts Fetch + Display Script\n",
    "# ---------------------------------------------\n",
    "\n",
    "import requests\n",
    "import re\n",
    "import json\n",
    "import pandas as pd\n",
    "# import matplotlib.pyplot as plt\n",
    "from IPython.display import display, JSON\n",
    "\n",
    "# ---------------------------------------------\n",
    "# 1. Setup\n",
    "# ---------------------------------------------\n",
    "USERNAME = \"adomasgaudi\"\n",
    "HEADERS = {\"User-Agent\": \"Mozilla/5.0\"}\n",
    "URL = f\"https://my.strengthlevel.com/{USERNAME}/workouts\"\n",
    "\n",
    "# ---------------------------------------------\n",
    "# 2. Get the webpage HTML\n",
    "# ---------------------------------------------\n",
    "page = requests.get(URL, headers=HEADERS)\n",
    "page.raise_for_status()\n",
    "html_text = page.text\n",
    "\n",
    "# ---------------------------------------------\n",
    "# 3. Find the embedded JSON (\"window.prefill = [...]\")\n",
    "# ---------------------------------------------\n",
    "pattern = r\"window\\.prefill\\s*=\\s*(\\[[\\s\\S]*?\\]);\"\n",
    "match = re.search(pattern, html_text)\n",
    "if not match:\n",
    "    raise ValueError(\"Couldn't find 'window.prefill' in page HTML\")\n",
    "\n",
    "json_text = match.group(1)\n",
    "prefill = json.loads(json_text)\n",
    "\n",
    "# ---------------------------------------------\n",
    "# 4. Extract user_id\n",
    "# ---------------------------------------------\n",
    "user_id = prefill[0][\"request\"][\"params\"][\"user_id\"]\n",
    "print(\"✅ User ID:\", user_id)\n",
    "\n",
    "# ---------------------------------------------\n",
    "# 5. Fetch workouts from the API\n",
    "# ---------------------------------------------\n",
    "API_URL = \"https://my.strengthlevel.com/api/workouts\"\n",
    "params = {\"user_id\": user_id, \"limit\": 20}\n",
    "response = requests.get(API_URL, params=params, headers=HEADERS)\n",
    "response.raise_for_status()\n",
    "workouts = response.json()\n",
    "\n",
    "print(f\"✅ Got {len(workouts['data'])} workouts\")\n",
    "\n",
    "# ---------------------------------------------\n",
    "# 6. Display JSON (expandable view)\n",
    "# ---------------------------------------------\n",
    "display(JSON(workouts))\n",
    "\n",
    "# ---------------------------------------------\n",
    "# 7. Flatten workouts into a table\n",
    "# ---------------------------------------------\n",
    "rows = []\n",
    "for w in workouts[\"data\"]:\n",
    "    date = w[\"date\"]\n",
    "    for e in w[\"exercises\"]:\n",
    "        name = e[\"exercise_name\"]\n",
    "        for s in e[\"sets\"]:\n",
    "            rows.append({\n",
    "                \"date\": date,\n",
    "                \"exercise\": name,\n",
    "                \"weight\": s.get(\"weight\"),\n",
    "                \"reps\": s.get(\"reps\"),\n",
    "                \"notes\": s.get(\"notes\"),\n",
    "            })\n",
    "\n",
    "df = pd.DataFrame(rows)\n",
    "print(\"✅ Flattened rows:\", len(df))\n",
    "display(df.head(20))\n",
    "#\n",
    "# # ---------------------------------------------\n",
    "# # 8. Save data locally (optional)\n",
    "# # ---------------------------------------------\n",
    "# df.to_csv(\"workouts_table.csv\", index=False)\n",
    "# with open(\"workouts_raw.json\", \"w\", encoding=\"utf-8\") as f:\n",
    "#     json.dump(workouts, f, indent=2)\n",
    "# print(\"💾 Saved workouts_table.csv and workouts_raw.json\")\n",
    "#\n",
    "# # ---------------------------------------------\n",
    "# # 9. Plot example: Bench Press progress\n",
    "# # ---------------------------------------------\n",
    "# plt.figure(figsize=(8, 4))\n",
    "# bench = df[df[\"exercise\"].str.lower().str.contains(\"bench\")]\n",
    "# plt.plot(bench[\"date\"], bench[\"weight\"], marker=\"o\")\n",
    "# plt.title(\"Bench Press Progress\")\n",
    "# plt.xlabel(\"Date\")\n",
    "# plt.ylabel(\"Weight (kg)\")\n",
    "# plt.xticks(rotation=45)\n",
    "# plt.grid(True)\n",
    "# plt.tight_layout()\n",
    "# plt.show()\n"
   ],
   "outputs": [
    {
     "name": "stdout",
     "output_type": "stream",
     "text": [
      "✅ User ID: 018a46b5-52f8-73e4-91a1-e90941b0eb34\n",
      "✅ Got 20 workouts\n"
     ]
    },
    {
     "data": {
      "text/plain": [
       "<IPython.core.display.JSON object>"
      ],
      "application/json": {
       "data": [
        {
         "id": "0199ca28-a3cf-7d42-9a21-868bceb5b85f",
         "date": "2025-10-09"
        },
        {
         "id": "0199b39b-6a0a-7f4e-8007-bf7cea54d585",
         "date": "2025-10-05"
        },
        {
         "id": "0199a569-dac1-7b5a-9f36-9d101820053c",
         "date": "2025-10-02"
        },
        {
         "id": "01999ab3-9e30-70d8-b367-6c1ee4b77407",
         "date": "2025-09-30"
        },
        {
         "id": "0199809c-7bf2-73bd-9a5d-59132b5be9cd",
         "date": "2025-09-25"
        },
        {
         "id": "019977a7-2b44-723a-a52d-84378c736d1f",
         "date": "2025-09-23"
        },
        {
         "id": "019966d8-9a3c-78d4-b93b-e006e6d40fee",
         "date": "2025-09-20"
        },
        {
         "id": "01996302-a175-70e5-aed0-588d815d7767",
         "date": "2025-09-19"
        },
        {
         "id": "0199540a-45d6-703c-85c6-0789d201f30a",
         "date": "2025-09-17"
        },
        {
         "id": "01994e0f-4fe6-7137-95b2-927abed0f3e9",
         "date": "2025-09-15"
        },
        {
         "id": "0199298a-cc67-7d6e-9d29-e0cf8537ae3d",
         "date": "2025-09-12"
        },
        {
         "id": "0199298a-42c7-7c51-8bb2-0b4297a578e8",
         "date": "2025-09-10"
        },
        {
         "id": "019928ed-1ca9-7c28-91b4-969c8822abca",
         "date": "2025-09-08"
        },
        {
         "id": "01991f27-4148-734d-8a41-e3beb4a113b1",
         "date": "2025-09-06"
        },
        {
         "id": "01991aff-c74b-78c1-981d-d8e9155d6a8f",
         "date": "2025-09-05"
        },
        {
         "id": "01991011-3ac3-761e-9a56-8f21f5801fd2",
         "date": "2025-09-03"
        },
        {
         "id": "01990627-3221-794b-8c76-7305290169dd",
         "date": "2025-09-01"
        },
        {
         "id": "01990021-0920-797e-8d77-467d54dd642a",
         "date": "2025-08-30"
        },
        {
         "id": "0198ebb2-5cb5-7cdb-9fb9-3c3ec904ee2e",
         "date": "2025-08-27"
        },
        {
         "id": "0198e108-cbad-7a9a-87b8-eeeaea43281a",
         "date": "2025-08-25"
        }
       ],
       "meta": {
        "count": 262
       }
      }
     },
     "metadata": {
      "application/json": {
       "expanded": false,
       "root": "root"
      }
     },
     "output_type": "display_data",
     "jetTransient": {
      "display_id": null
     }
    }
   ],
   "execution_count": 1
  },
  {
   "metadata": {},
   "cell_type": "code",
   "source": "",
   "id": "a55d857730e97ba3",
   "outputs": [],
   "execution_count": null
  },
  {
   "cell_type": "code",
   "execution_count": null,
   "id": "b0f81ad1",
   "metadata": {},
   "outputs": [],
   "source": []
  }
 ],
 "metadata": {
  "kernelspec": {
   "display_name": "Python 3",
   "language": "python",
   "name": "python3"
  },
  "language_info": {
   "codemirror_mode": {
    "name": "ipython",
    "version": 3
   },
   "file_extension": ".py",
   "mimetype": "text/x-python",
   "name": "python",
   "nbconvert_exporter": "python",
   "pygments_lexer": "ipython3",
   "version": "3.13.7"
  }
 },
 "nbformat": 4,
 "nbformat_minor": 5
}
