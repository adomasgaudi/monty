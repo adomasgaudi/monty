{
 "cells": [
  {
   "cell_type": "code",
   "execution_count": 2,
   "id": "initial_id",
   "metadata": {
    "ExecuteTime": {
     "end_time": "2025-10-09T22:40:32.952144Z",
     "start_time": "2025-10-09T22:40:31.237946Z"
    },
    "collapsed": true
   },
   "outputs": [
    {
     "name": "stdout",
     "output_type": "stream",
     "text": [
      "✅ User ID: 018a46b5-52f8-73e4-91a1-e90941b0eb34\n",
      "✅ Got 20 workouts\n"
     ]
    },
    {
     "data": {
      "application/json": {
       "data": [
        {
         "date": "2025-10-09",
         "id": "0199ca28-a3cf-7d42-9a21-868bceb5b85f"
        },
        {
         "date": "2025-10-05",
         "id": "0199b39b-6a0a-7f4e-8007-bf7cea54d585"
        },
        {
         "date": "2025-10-02",
         "id": "0199a569-dac1-7b5a-9f36-9d101820053c"
        },
        {
         "date": "2025-09-30",
         "id": "01999ab3-9e30-70d8-b367-6c1ee4b77407"
        },
        {
         "date": "2025-09-25",
         "id": "0199809c-7bf2-73bd-9a5d-59132b5be9cd"
        },
        {
         "date": "2025-09-23",
         "id": "019977a7-2b44-723a-a52d-84378c736d1f"
        },
        {
         "date": "2025-09-20",
         "id": "019966d8-9a3c-78d4-b93b-e006e6d40fee"
        },
        {
         "date": "2025-09-19",
         "id": "01996302-a175-70e5-aed0-588d815d7767"
        },
        {
         "date": "2025-09-17",
         "id": "0199540a-45d6-703c-85c6-0789d201f30a"
        },
        {
         "date": "2025-09-15",
         "id": "01994e0f-4fe6-7137-95b2-927abed0f3e9"
        },
        {
         "date": "2025-09-12",
         "id": "0199298a-cc67-7d6e-9d29-e0cf8537ae3d"
        },
        {
         "date": "2025-09-10",
         "id": "0199298a-42c7-7c51-8bb2-0b4297a578e8"
        },
        {
         "date": "2025-09-08",
         "id": "019928ed-1ca9-7c28-91b4-969c8822abca"
        },
        {
         "date": "2025-09-06",
         "id": "01991f27-4148-734d-8a41-e3beb4a113b1"
        },
        {
         "date": "2025-09-05",
         "id": "01991aff-c74b-78c1-981d-d8e9155d6a8f"
        },
        {
         "date": "2025-09-03",
         "id": "01991011-3ac3-761e-9a56-8f21f5801fd2"
        },
        {
         "date": "2025-09-01",
         "id": "01990627-3221-794b-8c76-7305290169dd"
        },
        {
         "date": "2025-08-30",
         "id": "01990021-0920-797e-8d77-467d54dd642a"
        },
        {
         "date": "2025-08-27",
         "id": "0198ebb2-5cb5-7cdb-9fb9-3c3ec904ee2e"
        },
        {
         "date": "2025-08-25",
         "id": "0198e108-cbad-7a9a-87b8-eeeaea43281a"
        }
       ],
       "meta": {
        "count": 262
       }
      },
      "text/plain": [
       "<IPython.core.display.JSON object>"
      ]
     },
     "metadata": {
      "application/json": {
       "expanded": false,
       "root": "root"
      }
     },
     "output_type": "display_data"
    },
    {
     "data": {
      "text/plain": [
       "dict"
      ]
     },
     "metadata": {},
     "output_type": "display_data"
    },
    {
     "name": "stdout",
     "output_type": "stream",
     "text": [
      "2025-10-09\n",
      "{'id': '0199ca28-a3cf-7d42-9a21-868bceb5b85f', 'date': '2025-10-09'}\n",
      "2025-10-05\n",
      "{'id': '0199b39b-6a0a-7f4e-8007-bf7cea54d585', 'date': '2025-10-05'}\n",
      "2025-10-02\n",
      "{'id': '0199a569-dac1-7b5a-9f36-9d101820053c', 'date': '2025-10-02'}\n",
      "2025-09-30\n",
      "{'id': '01999ab3-9e30-70d8-b367-6c1ee4b77407', 'date': '2025-09-30'}\n",
      "2025-09-25\n",
      "{'id': '0199809c-7bf2-73bd-9a5d-59132b5be9cd', 'date': '2025-09-25'}\n",
      "2025-09-23\n",
      "{'id': '019977a7-2b44-723a-a52d-84378c736d1f', 'date': '2025-09-23'}\n",
      "2025-09-20\n",
      "{'id': '019966d8-9a3c-78d4-b93b-e006e6d40fee', 'date': '2025-09-20'}\n",
      "2025-09-19\n",
      "{'id': '01996302-a175-70e5-aed0-588d815d7767', 'date': '2025-09-19'}\n",
      "2025-09-17\n",
      "{'id': '0199540a-45d6-703c-85c6-0789d201f30a', 'date': '2025-09-17'}\n",
      "2025-09-15\n",
      "{'id': '01994e0f-4fe6-7137-95b2-927abed0f3e9', 'date': '2025-09-15'}\n",
      "2025-09-12\n",
      "{'id': '0199298a-cc67-7d6e-9d29-e0cf8537ae3d', 'date': '2025-09-12'}\n",
      "2025-09-10\n",
      "{'id': '0199298a-42c7-7c51-8bb2-0b4297a578e8', 'date': '2025-09-10'}\n",
      "2025-09-08\n",
      "{'id': '019928ed-1ca9-7c28-91b4-969c8822abca', 'date': '2025-09-08'}\n",
      "2025-09-06\n",
      "{'id': '01991f27-4148-734d-8a41-e3beb4a113b1', 'date': '2025-09-06'}\n",
      "2025-09-05\n",
      "{'id': '01991aff-c74b-78c1-981d-d8e9155d6a8f', 'date': '2025-09-05'}\n",
      "2025-09-03\n",
      "{'id': '01991011-3ac3-761e-9a56-8f21f5801fd2', 'date': '2025-09-03'}\n",
      "2025-09-01\n",
      "{'id': '01990627-3221-794b-8c76-7305290169dd', 'date': '2025-09-01'}\n",
      "2025-08-30\n",
      "{'id': '01990021-0920-797e-8d77-467d54dd642a', 'date': '2025-08-30'}\n",
      "2025-08-27\n",
      "{'id': '0198ebb2-5cb5-7cdb-9fb9-3c3ec904ee2e', 'date': '2025-08-27'}\n",
      "2025-08-25\n",
      "{'id': '0198e108-cbad-7a9a-87b8-eeeaea43281a', 'date': '2025-08-25'}\n",
      "✅ Flattened rows: 20\n",
      "    2025-10-09  2025-10-05  2025-10-02  2025-09-30  2025-09-25  2025-09-23  \\\n",
      "0   2025-10-09         NaN         NaN         NaN         NaN         NaN   \n",
      "1          NaN  2025-10-05         NaN         NaN         NaN         NaN   \n",
      "2          NaN         NaN  2025-10-02         NaN         NaN         NaN   \n",
      "3          NaN         NaN         NaN  2025-09-30         NaN         NaN   \n",
      "4          NaN         NaN         NaN         NaN  2025-09-25         NaN   \n",
      "5          NaN         NaN         NaN         NaN         NaN  2025-09-23   \n",
      "6          NaN         NaN         NaN         NaN         NaN         NaN   \n",
      "7          NaN         NaN         NaN         NaN         NaN         NaN   \n",
      "8          NaN         NaN         NaN         NaN         NaN         NaN   \n",
      "9          NaN         NaN         NaN         NaN         NaN         NaN   \n",
      "10         NaN         NaN         NaN         NaN         NaN         NaN   \n",
      "11         NaN         NaN         NaN         NaN         NaN         NaN   \n",
      "12         NaN         NaN         NaN         NaN         NaN         NaN   \n",
      "13         NaN         NaN         NaN         NaN         NaN         NaN   \n",
      "14         NaN         NaN         NaN         NaN         NaN         NaN   \n",
      "15         NaN         NaN         NaN         NaN         NaN         NaN   \n",
      "16         NaN         NaN         NaN         NaN         NaN         NaN   \n",
      "17         NaN         NaN         NaN         NaN         NaN         NaN   \n",
      "18         NaN         NaN         NaN         NaN         NaN         NaN   \n",
      "19         NaN         NaN         NaN         NaN         NaN         NaN   \n",
      "\n",
      "    2025-09-20  2025-09-19  2025-09-17  2025-09-15  2025-09-12  2025-09-10  \\\n",
      "0          NaN         NaN         NaN         NaN         NaN         NaN   \n",
      "1          NaN         NaN         NaN         NaN         NaN         NaN   \n",
      "2          NaN         NaN         NaN         NaN         NaN         NaN   \n",
      "3          NaN         NaN         NaN         NaN         NaN         NaN   \n",
      "4          NaN         NaN         NaN         NaN         NaN         NaN   \n",
      "5          NaN         NaN         NaN         NaN         NaN         NaN   \n",
      "6   2025-09-20         NaN         NaN         NaN         NaN         NaN   \n",
      "7          NaN  2025-09-19         NaN         NaN         NaN         NaN   \n",
      "8          NaN         NaN  2025-09-17         NaN         NaN         NaN   \n",
      "9          NaN         NaN         NaN  2025-09-15         NaN         NaN   \n",
      "10         NaN         NaN         NaN         NaN  2025-09-12         NaN   \n",
      "11         NaN         NaN         NaN         NaN         NaN  2025-09-10   \n",
      "12         NaN         NaN         NaN         NaN         NaN         NaN   \n",
      "13         NaN         NaN         NaN         NaN         NaN         NaN   \n",
      "14         NaN         NaN         NaN         NaN         NaN         NaN   \n",
      "15         NaN         NaN         NaN         NaN         NaN         NaN   \n",
      "16         NaN         NaN         NaN         NaN         NaN         NaN   \n",
      "17         NaN         NaN         NaN         NaN         NaN         NaN   \n",
      "18         NaN         NaN         NaN         NaN         NaN         NaN   \n",
      "19         NaN         NaN         NaN         NaN         NaN         NaN   \n",
      "\n",
      "    2025-09-08  2025-09-06  2025-09-05  2025-09-03  2025-09-01  2025-08-30  \\\n",
      "0          NaN         NaN         NaN         NaN         NaN         NaN   \n",
      "1          NaN         NaN         NaN         NaN         NaN         NaN   \n",
      "2          NaN         NaN         NaN         NaN         NaN         NaN   \n",
      "3          NaN         NaN         NaN         NaN         NaN         NaN   \n",
      "4          NaN         NaN         NaN         NaN         NaN         NaN   \n",
      "5          NaN         NaN         NaN         NaN         NaN         NaN   \n",
      "6          NaN         NaN         NaN         NaN         NaN         NaN   \n",
      "7          NaN         NaN         NaN         NaN         NaN         NaN   \n",
      "8          NaN         NaN         NaN         NaN         NaN         NaN   \n",
      "9          NaN         NaN         NaN         NaN         NaN         NaN   \n",
      "10         NaN         NaN         NaN         NaN         NaN         NaN   \n",
      "11         NaN         NaN         NaN         NaN         NaN         NaN   \n",
      "12  2025-09-08         NaN         NaN         NaN         NaN         NaN   \n",
      "13         NaN  2025-09-06         NaN         NaN         NaN         NaN   \n",
      "14         NaN         NaN  2025-09-05         NaN         NaN         NaN   \n",
      "15         NaN         NaN         NaN  2025-09-03         NaN         NaN   \n",
      "16         NaN         NaN         NaN         NaN  2025-09-01         NaN   \n",
      "17         NaN         NaN         NaN         NaN         NaN  2025-08-30   \n",
      "18         NaN         NaN         NaN         NaN         NaN         NaN   \n",
      "19         NaN         NaN         NaN         NaN         NaN         NaN   \n",
      "\n",
      "    2025-08-27  2025-08-25  \n",
      "0          NaN         NaN  \n",
      "1          NaN         NaN  \n",
      "2          NaN         NaN  \n",
      "3          NaN         NaN  \n",
      "4          NaN         NaN  \n",
      "5          NaN         NaN  \n",
      "6          NaN         NaN  \n",
      "7          NaN         NaN  \n",
      "8          NaN         NaN  \n",
      "9          NaN         NaN  \n",
      "10         NaN         NaN  \n",
      "11         NaN         NaN  \n",
      "12         NaN         NaN  \n",
      "13         NaN         NaN  \n",
      "14         NaN         NaN  \n",
      "15         NaN         NaN  \n",
      "16         NaN         NaN  \n",
      "17         NaN         NaN  \n",
      "18  2025-08-27         NaN  \n",
      "19         NaN  2025-08-25  \n"
     ]
    }
   ],
   "source": [
    "\n",
    "import requests\n",
    "import re\n",
    "import json\n",
    "import pandas as pd\n",
    "from IPython.display import display, JSON\n",
    "# ---------------------------------------------\n",
    "# 1. Setup\n",
    "# ---------------------------------------------\n",
    "USERNAME = \"adomasgaudi\"\n",
    "HEADERS = {\"User-Agent\": \"Mozilla/5.0\"}\n",
    "URL = f\"https://my.strengthlevel.com/{USERNAME}/workouts\"\n",
    "\n",
    "# ---------------------------------------------\n",
    "# 2. Get the webpage HTML\n",
    "# ---------------------------------------------\n",
    "page = requests.get(URL, headers=HEADERS)\n",
    "page.raise_for_status()\n",
    "html_text = page.text\n",
    "\n",
    "# ---------------------------------------------\n",
    "# 3. Find the embedded JSON (\"window.prefill = [...]\")\n",
    "# ---------------------------------------------\n",
    "pattern = r\"window\\.prefill\\s*=\\s*(\\[[\\s\\S]*?\\]);\"\n",
    "match = re.search(pattern, html_text)\n",
    "if not match:\n",
    "    raise ValueError(\"Couldn't find 'window.prefill' in page HTML\")\n",
    "\n",
    "json_text = match.group(1)\n",
    "prefill = json.loads(json_text)\n",
    "\n",
    "# ---------------------------------------------\n",
    "# 4. Extract user_id\n",
    "# ---------------------------------------------\n",
    "user_id = prefill[0][\"request\"][\"params\"][\"user_id\"]\n",
    "print(\"✅ User ID:\", user_id)\n",
    "\n",
    "# ---------------------------------------------\n",
    "# 5. Fetch workouts from the API\n",
    "# ---------------------------------------------\n",
    "API_URL = \"https://my.strengthlevel.com/api/workouts\"\n",
    "params = {\"user_id\": user_id, \"limit\": 20}\n",
    "response = requests.get(API_URL, params=params, headers=HEADERS)\n",
    "response.raise_for_status()\n",
    "workouts = response.json()\n",
    "\n",
    "print(f\"✅ Got {len(workouts['data'])} workouts\")\n",
    "\n",
    "# ---------------------------------------------\n",
    "# 6. Display JSON (expandable view)\n",
    "# ---------------------------------------------\n",
    "display(JSON(workouts))\n",
    "display(type(workouts))\n",
    "\n",
    "# ---------------------------------------------\n",
    "# 7. Flatten workouts into a table\n",
    "# ---------------------------------------------\n",
    "rows = []\n",
    "for w in workouts[\"data\"]:\n",
    "    print(w[\"date\"])\n",
    "    date = w[\"date\"]\n",
    "    rows.append({\n",
    "        date:date\n",
    "    })\n",
    "    print(w)\n",
    "    # for e in w[\"exercises\"]:\n",
    "    #     print(e)\n",
    "    #     name = e[\"exercise_name\"]\n",
    "    #     for s in e[\"sets\"]:\n",
    "    #         rows.append({\n",
    "    #             \"date\": date,\n",
    "    #             \"exercise\": name,\n",
    "    #             \"weight\": s.get(\"weight\"),\n",
    "    #             \"reps\": s.get(\"reps\"),\n",
    "    #             \"notes\": s.get(\"notes\"),\n",
    "    #         })\n",
    "#\n",
    "df = pd.DataFrame(rows)\n",
    "print(\"✅ Flattened rows:\", len(df))\n",
    "print(df)\n"
   ]
  }
 ],
 "metadata": {
  "kernelspec": {
   "display_name": "Python 3",
   "language": "python",
   "name": "python3"
  },
  "language_info": {
   "codemirror_mode": {
    "name": "ipython",
    "version": 3
   },
   "file_extension": ".py",
   "mimetype": "text/x-python",
   "name": "python",
   "nbconvert_exporter": "python",
   "pygments_lexer": "ipython3",
   "version": "3.13.7"
  }
 },
 "nbformat": 4,
 "nbformat_minor": 5
}
